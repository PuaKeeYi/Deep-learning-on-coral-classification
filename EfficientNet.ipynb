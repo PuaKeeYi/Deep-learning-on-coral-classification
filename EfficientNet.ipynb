{
 "cells": [
  {
   "cell_type": "code",
   "execution_count": 1,
   "id": "f71fcabd-20d2-4f42-ae39-71ac461f3250",
   "metadata": {
    "tags": []
   },
   "outputs": [
    {
     "name": "stdout",
     "output_type": "stream",
     "text": [
      "WARNING:tensorflow:From c:\\Users\\user\\AppData\\Local\\Programs\\Python\\Python39\\lib\\site-packages\\keras\\src\\losses.py:2976: The name tf.losses.sparse_softmax_cross_entropy is deprecated. Please use tf.compat.v1.losses.sparse_softmax_cross_entropy instead.\n",
      "\n"
     ]
    }
   ],
   "source": [
    "import pandas as pd\n",
    "import os, re\n",
    "import numpy as np\n",
    "import cv2\n",
    "import matplotlib.pyplot as plt\n",
    "import seaborn as sns\n",
    "\n",
    "import tensorflow as tf\n",
    "import datetime\n",
    "from tensorflow.keras import layers, models"
   ]
  },
  {
   "cell_type": "code",
   "execution_count": 2,
   "id": "0345fca8-4063-4156-bbcd-c9ad391470c5",
   "metadata": {
    "tags": []
   },
   "outputs": [
    {
     "name": "stdout",
     "output_type": "stream",
     "text": [
      "Loaded 1000 training images.\n",
      "Loaded 2000 training images.\n",
      "Loaded 3000 training images.\n",
      "Loaded 4000 training images.\n",
      "Loaded train folder\n",
      "Loaded test folder\n"
     ]
    }
   ],
   "source": [
    "import os\n",
    "import re\n",
    "import cv2\n",
    "\n",
    "def load_images(path=\"coral_image_jpg\"):\n",
    "    train_folder = os.path.join(os.getcwd(), path, \"train\")\n",
    "    test_folder = os.path.join(os.getcwd(), path, \"test\")\n",
    "    \n",
    "    X_train, X_test, Y_train, Y_test = [], [], [], []\n",
    "    \n",
    "    # Loading images from train folder to X_train and label to Y_train\n",
    "    train_count = 0\n",
    "    for image_fname in os.listdir(train_folder):\n",
    "        image_re = re.match(r'([0-9]+)_([0-9]+)\\.jpg', image_fname)\n",
    "        if not image_re:\n",
    "            print(f\"Filename {image_fname} does not match the expected pattern.\")\n",
    "            continue\n",
    "        \n",
    "        image_path = os.path.join(train_folder, image_fname)\n",
    "        image = cv2.imread(image_path)\n",
    "        \n",
    "        if image is None:\n",
    "            print(f\"Failed to load image: {image_path}\")\n",
    "            continue\n",
    "        \n",
    "        try:\n",
    "            image_rgb = cv2.cvtColor(image, cv2.COLOR_BGR2RGB)\n",
    "        except cv2.error as e:\n",
    "            print(f\"Error converting image: {image_path}. Error: {e}\")\n",
    "            continue\n",
    "        \n",
    "        label = int(image_re.group(2))  # Convert label to integer\n",
    "        \n",
    "        X_train.append(image_rgb)\n",
    "        Y_train.append(label)\n",
    "        train_count += 1\n",
    "        if train_count % 1000 == 0:\n",
    "            print(f\"Loaded {train_count} training images.\")\n",
    "    print(\"Loaded train folder\")\n",
    "    \n",
    "    # Loading images from test folder to X_test and label to Y_test\n",
    "    test_count = 0\n",
    "    for image_fname in os.listdir(test_folder):\n",
    "        image_re = re.match(r'([0-9]+)_([0-9]+)\\.jpg', image_fname)\n",
    "        if not image_re:\n",
    "            print(f\"Filename {image_fname} does not match the expected pattern.\")\n",
    "            continue\n",
    "        \n",
    "        image_path = os.path.join(test_folder, image_fname)\n",
    "        image = cv2.imread(image_path)\n",
    "        \n",
    "        if image is None:\n",
    "            print(f\"Failed to load image: {image_path}\")\n",
    "            continue\n",
    "        \n",
    "        try:\n",
    "            image_rgb = cv2.cvtColor(image, cv2.COLOR_BGR2RGB)\n",
    "        except cv2.error as e:\n",
    "            print(f\"Error converting image: {image_path}. Error: {e}\")\n",
    "            continue\n",
    "        \n",
    "        label = int(image_re.group(2))  # Convert label to integer\n",
    "        \n",
    "        X_test.append(image_rgb)\n",
    "        Y_test.append(label)\n",
    "        test_count += 1\n",
    "        if test_count % 1000 == 0:\n",
    "            print(f\"Loaded {test_count} testing images.\")\n",
    "    print(\"Loaded test folder\")\n",
    "    \n",
    "    return X_train, X_test, Y_train, Y_test\n",
    "\n",
    "# Call the function to load images\n",
    "X_train, X_test, Y_train, Y_test = load_images()"
   ]
  },
  {
   "cell_type": "code",
   "execution_count": 8,
   "id": "cec13f5a-21ba-4424-904a-9865dc2f67d9",
   "metadata": {
    "tags": []
   },
   "outputs": [
    {
     "name": "stdout",
     "output_type": "stream",
     "text": [
      "(4112, 225, 225, 3)\n",
      "(258, 225, 225, 3)\n",
      "(4112,)\n",
      "(258,)\n"
     ]
    }
   ],
   "source": [
    "x_train = np.array(X_train)\n",
    "x_test = np.array(X_test)\n",
    "y_train = np.array(Y_train)\n",
    "y_test = np.array(Y_test)\n",
    "print(x_train.shape)\n",
    "print(x_test.shape)\n",
    "print(y_train.shape)\n",
    "print(y_test.shape)"
   ]
  },
  {
   "cell_type": "code",
   "execution_count": 9,
   "id": "b93f7308-fe83-477e-8d3f-79972c696aa5",
   "metadata": {
    "tags": []
   },
   "outputs": [],
   "source": [
    "x_train = x_train.astype('float32')\n",
    "x_test = x_test.astype('float32')\n",
    "\n",
    "x_train /= 255\n",
    "x_test /=255"
   ]
  },
  {
   "cell_type": "code",
   "execution_count": 10,
   "id": "28adfb2e-6517-42a4-a5ac-1395f65da7c9",
   "metadata": {
    "tags": []
   },
   "outputs": [
    {
     "name": "stdout",
     "output_type": "stream",
     "text": [
      "Shape before one-hot encoding :  (4112,)\n",
      "Shape after one-hot encoding :  (258, 2)\n"
     ]
    }
   ],
   "source": [
    "from keras.utils import to_categorical\n",
    "\n",
    "print(\"Shape before one-hot encoding : \",y_train.shape)\n",
    "y_train = to_categorical(y_train)\n",
    "y_test = to_categorical(y_test)\n",
    "print(\"Shape after one-hot encoding : \",y_test.shape)"
   ]
  },
  {
   "cell_type": "code",
   "execution_count": 3,
   "id": "b69f8127-0c45-4013-a690-239eed1d5fb7",
   "metadata": {
    "tags": []
   },
   "outputs": [],
   "source": [
    "import tensorflow as tf\n",
    "from tensorflow.keras.layers import Dense, GlobalAveragePooling2D, Dropout, Input, BatchNormalization\n",
    "from tensorflow.keras.models import Sequential\n",
    "from tensorflow.keras.applications import EfficientNetB1\n",
    "from tensorflow.keras.callbacks import EarlyStopping, ReduceLROnPlateau, TensorBoard, ModelCheckpoint\n",
    "from tensorflow.keras.optimizers import Adam"
   ]
  },
  {
   "cell_type": "code",
   "execution_count": 7,
   "id": "2b8ab491-5071-46a2-b468-eed9c3198fb1",
   "metadata": {
    "tags": []
   },
   "outputs": [
    {
     "name": "stdout",
     "output_type": "stream",
     "text": [
      "Model: \"sequential\"\n",
      "_________________________________________________________________\n",
      " Layer (type)                Output Shape              Param #   \n",
      "=================================================================\n",
      " efficientnetb1 (Functional  (None, 8, 8, 1280)        6575239   \n",
      " )                                                               \n",
      "                                                                 \n",
      " global_average_pooling2d (  (None, 1280)              0         \n",
      " GlobalAveragePooling2D)                                         \n",
      "                                                                 \n",
      " dense (Dense)               (None, 128)               163968    \n",
      "                                                                 \n",
      " batch_normalization (Batch  (None, 128)               512       \n",
      " Normalization)                                                  \n",
      "                                                                 \n",
      " dropout (Dropout)           (None, 128)               0         \n",
      "                                                                 \n",
      " dense_1 (Dense)             (None, 256)               33024     \n",
      "                                                                 \n",
      " batch_normalization_1 (Bat  (None, 256)               1024      \n",
      " chNormalization)                                                \n",
      "                                                                 \n",
      " dropout_1 (Dropout)         (None, 256)               0         \n",
      "                                                                 \n",
      " dense_2 (Dense)             (None, 2)                 514       \n",
      "                                                                 \n",
      "=================================================================\n",
      "Total params: 6774281 (25.84 MB)\n",
      "Trainable params: 198274 (774.51 KB)\n",
      "Non-trainable params: 6576007 (25.09 MB)\n",
      "_________________________________________________________________\n"
     ]
    }
   ],
   "source": [
    "def create_EfficientNet_model(image_size=225, num_classes=2):\n",
    "    model = Sequential()\n",
    "    effnet = EfficientNetB1(\n",
    "        weights='imagenet',\n",
    "        include_top=False,\n",
    "        input_shape=(image_size, image_size, 3)\n",
    "    )\n",
    "    effnet.trainable = False\n",
    "    model.add(effnet)\n",
    "    model.add(GlobalAveragePooling2D())\n",
    "    model.add(layers.Dense(128, activation='relu'))\n",
    "    model.add(BatchNormalization())\n",
    "    model.add(Dropout(rate=0.5))\n",
    "    model.add(layers.Dense(256, activation='relu'))\n",
    "    model.add(BatchNormalization())\n",
    "    model.add(Dropout(rate=0.5))\n",
    "    model.add(Dense(num_classes, activation='softmax'))\n",
    "    return model\n",
    "    \n",
    "model = create_EfficientNet_model()\n",
    "model.summary()"
   ]
  },
  {
   "cell_type": "code",
   "execution_count": 8,
   "id": "43f3b501-7d8b-4737-acbc-7e9736032ee1",
   "metadata": {
    "tags": []
   },
   "outputs": [],
   "source": [
    "log_dir = os.path.join(\"logs_EffNet\", datetime.datetime.now().strftime(\"%Y%m%d-%H%M%S\"))\n",
    "tensorboard_callback = TensorBoard(log_dir=log_dir, histogram_freq=1)\n",
    "checkpoint = ModelCheckpoint(\"effnet.h5\",monitor=\"val_accuracy\",save_best_only=True,mode=\"auto\",verbose=1)\n",
    "reduce_lr = ReduceLROnPlateau(monitor='val_loss', factor=0.2, patience=3, min_lr=1e-10)\n",
    "early_stopping = EarlyStopping(monitor = \"val_loss\",patience = 5,restore_best_weights = True)"
   ]
  },
  {
   "cell_type": "code",
   "execution_count": 9,
   "id": "a5a135d5-2996-41a7-9b26-53a7e124c70f",
   "metadata": {
    "tags": []
   },
   "outputs": [],
   "source": [
    "model.compile(loss='categorical_crossentropy',optimizer=Adam(0.001), metrics= ['accuracy'],run_eagerly = False)"
   ]
  },
  {
   "cell_type": "code",
   "execution_count": 10,
   "id": "03cc6b17-db2c-45b2-8381-3386e5752287",
   "metadata": {
    "tags": []
   },
   "outputs": [
    {
     "name": "stdout",
     "output_type": "stream",
     "text": [
      "Epoch 1/20\n",
      "129/129 [==============================] - ETA: 0s - loss: 0.9194 - accuracy: 0.5092\n",
      "Epoch 1: val_accuracy improved from -inf to 0.53101, saving model to effnet.h5\n"
     ]
    },
    {
     "name": "stderr",
     "output_type": "stream",
     "text": [
      "/opt/conda/lib/python3.10/site-packages/keras/src/engine/training.py:3103: UserWarning: You are saving your model as an HDF5 file via `model.save()`. This file format is considered legacy. We recommend using instead the native Keras format, e.g. `model.save('my_model.keras')`.\n",
      "  saving_api.save_model(\n"
     ]
    },
    {
     "name": "stdout",
     "output_type": "stream",
     "text": [
      "129/129 [==============================] - 102s 716ms/step - loss: 0.9194 - accuracy: 0.5092 - val_loss: 0.7193 - val_accuracy: 0.5310 - lr: 0.0010\n",
      "Epoch 2/20\n",
      "129/129 [==============================] - ETA: 0s - loss: 0.8333 - accuracy: 0.5170\n",
      "Epoch 2: val_accuracy did not improve from 0.53101\n",
      "129/129 [==============================] - 89s 688ms/step - loss: 0.8333 - accuracy: 0.5170 - val_loss: 0.6910 - val_accuracy: 0.5310 - lr: 0.0010\n",
      "Epoch 3/20\n",
      "129/129 [==============================] - ETA: 0s - loss: 0.7851 - accuracy: 0.5143\n",
      "Epoch 3: val_accuracy did not improve from 0.53101\n",
      "129/129 [==============================] - 89s 691ms/step - loss: 0.7851 - accuracy: 0.5143 - val_loss: 0.6938 - val_accuracy: 0.5310 - lr: 0.0010\n",
      "Epoch 4/20\n",
      "129/129 [==============================] - ETA: 0s - loss: 0.7514 - accuracy: 0.5275\n",
      "Epoch 4: val_accuracy did not improve from 0.53101\n",
      "129/129 [==============================] - 89s 690ms/step - loss: 0.7514 - accuracy: 0.5275 - val_loss: 0.6789 - val_accuracy: 0.5310 - lr: 0.0010\n",
      "Epoch 5/20\n",
      "129/129 [==============================] - ETA: 0s - loss: 0.7304 - accuracy: 0.5275\n",
      "Epoch 5: val_accuracy improved from 0.53101 to 0.59302, saving model to effnet.h5\n",
      "129/129 [==============================] - 89s 694ms/step - loss: 0.7304 - accuracy: 0.5275 - val_loss: 0.6794 - val_accuracy: 0.5930 - lr: 0.0010\n",
      "Epoch 6/20\n",
      "129/129 [==============================] - ETA: 0s - loss: 0.7140 - accuracy: 0.5430\n",
      "Epoch 6: val_accuracy did not improve from 0.59302\n",
      "129/129 [==============================] - 88s 684ms/step - loss: 0.7140 - accuracy: 0.5430 - val_loss: 0.6780 - val_accuracy: 0.5310 - lr: 0.0010\n",
      "Epoch 7/20\n",
      "129/129 [==============================] - ETA: 0s - loss: 0.7073 - accuracy: 0.5340\n",
      "Epoch 7: val_accuracy did not improve from 0.59302\n",
      "129/129 [==============================] - 90s 696ms/step - loss: 0.7073 - accuracy: 0.5340 - val_loss: 0.6797 - val_accuracy: 0.5310 - lr: 0.0010\n",
      "Epoch 8/20\n",
      "129/129 [==============================] - ETA: 0s - loss: 0.6992 - accuracy: 0.5345\n",
      "Epoch 8: val_accuracy did not improve from 0.59302\n",
      "129/129 [==============================] - 89s 689ms/step - loss: 0.6992 - accuracy: 0.5345 - val_loss: 0.6725 - val_accuracy: 0.5504 - lr: 0.0010\n",
      "Epoch 9/20\n",
      "129/129 [==============================] - ETA: 0s - loss: 0.6932 - accuracy: 0.5443\n",
      "Epoch 9: val_accuracy did not improve from 0.59302\n",
      "129/129 [==============================] - 90s 696ms/step - loss: 0.6932 - accuracy: 0.5443 - val_loss: 0.6730 - val_accuracy: 0.5930 - lr: 0.0010\n",
      "Epoch 10/20\n",
      "129/129 [==============================] - ETA: 0s - loss: 0.6935 - accuracy: 0.5464\n",
      "Epoch 10: val_accuracy improved from 0.59302 to 0.61240, saving model to effnet.h5\n",
      "129/129 [==============================] - 88s 685ms/step - loss: 0.6935 - accuracy: 0.5464 - val_loss: 0.6747 - val_accuracy: 0.6124 - lr: 0.0010\n",
      "Epoch 11/20\n",
      "129/129 [==============================] - ETA: 0s - loss: 0.6934 - accuracy: 0.5426\n",
      "Epoch 11: val_accuracy did not improve from 0.61240\n",
      "129/129 [==============================] - 89s 691ms/step - loss: 0.6934 - accuracy: 0.5426 - val_loss: 0.6674 - val_accuracy: 0.6008 - lr: 0.0010\n",
      "Epoch 12/20\n",
      "129/129 [==============================] - ETA: 0s - loss: 0.6909 - accuracy: 0.5394\n",
      "Epoch 12: val_accuracy did not improve from 0.61240\n",
      "129/129 [==============================] - 89s 690ms/step - loss: 0.6909 - accuracy: 0.5394 - val_loss: 0.6756 - val_accuracy: 0.5698 - lr: 0.0010\n",
      "Epoch 13/20\n",
      "129/129 [==============================] - ETA: 0s - loss: 0.6902 - accuracy: 0.5411\n",
      "Epoch 13: val_accuracy did not improve from 0.61240\n",
      "129/129 [==============================] - 93s 721ms/step - loss: 0.6902 - accuracy: 0.5411 - val_loss: 0.6671 - val_accuracy: 0.6085 - lr: 0.0010\n",
      "Epoch 14/20\n",
      "129/129 [==============================] - ETA: 0s - loss: 0.6855 - accuracy: 0.5528\n",
      "Epoch 14: val_accuracy did not improve from 0.61240\n",
      "129/129 [==============================] - 89s 687ms/step - loss: 0.6855 - accuracy: 0.5528 - val_loss: 0.6640 - val_accuracy: 0.6047 - lr: 0.0010\n",
      "Epoch 15/20\n",
      "129/129 [==============================] - ETA: 0s - loss: 0.6874 - accuracy: 0.5535\n",
      "Epoch 15: val_accuracy did not improve from 0.61240\n",
      "129/129 [==============================] - 88s 686ms/step - loss: 0.6874 - accuracy: 0.5535 - val_loss: 0.6711 - val_accuracy: 0.5814 - lr: 0.0010\n",
      "Epoch 16/20\n",
      "129/129 [==============================] - ETA: 0s - loss: 0.6862 - accuracy: 0.5530\n",
      "Epoch 16: val_accuracy did not improve from 0.61240\n",
      "129/129 [==============================] - 88s 680ms/step - loss: 0.6862 - accuracy: 0.5530 - val_loss: 0.6722 - val_accuracy: 0.5814 - lr: 0.0010\n",
      "Epoch 17/20\n",
      "129/129 [==============================] - ETA: 0s - loss: 0.6836 - accuracy: 0.5562\n",
      "Epoch 17: val_accuracy did not improve from 0.61240\n",
      "129/129 [==============================] - 88s 680ms/step - loss: 0.6836 - accuracy: 0.5562 - val_loss: 0.6610 - val_accuracy: 0.6047 - lr: 0.0010\n",
      "Epoch 18/20\n",
      "129/129 [==============================] - ETA: 0s - loss: 0.6854 - accuracy: 0.5591\n",
      "Epoch 18: val_accuracy did not improve from 0.61240\n",
      "129/129 [==============================] - 87s 678ms/step - loss: 0.6854 - accuracy: 0.5591 - val_loss: 0.6745 - val_accuracy: 0.5349 - lr: 0.0010\n",
      "Epoch 19/20\n",
      "129/129 [==============================] - ETA: 0s - loss: 0.6881 - accuracy: 0.5486\n",
      "Epoch 19: val_accuracy improved from 0.61240 to 0.61628, saving model to effnet.h5\n",
      "129/129 [==============================] - 88s 685ms/step - loss: 0.6881 - accuracy: 0.5486 - val_loss: 0.6657 - val_accuracy: 0.6163 - lr: 0.0010\n",
      "Epoch 20/20\n",
      "129/129 [==============================] - ETA: 0s - loss: 0.6899 - accuracy: 0.5435\n",
      "Epoch 20: val_accuracy did not improve from 0.61628\n",
      "129/129 [==============================] - 88s 682ms/step - loss: 0.6899 - accuracy: 0.5435 - val_loss: 0.6623 - val_accuracy: 0.6047 - lr: 0.0010\n"
     ]
    }
   ],
   "source": [
    "history = model.fit(x_train, y_train ,epochs=20,validation_data=(x_test, y_test), batch_size=32, verbose=1,\n",
    "                    callbacks=[early_stopping, tensorboard_callback,checkpoint,reduce_lr])"
   ]
  },
  {
   "cell_type": "code",
   "execution_count": 11,
   "id": "3f6e039c-8ef1-4a3b-ae27-7e730af54566",
   "metadata": {},
   "outputs": [
    {
     "data": {
      "image/png": "[encoded data removed]",
      "text/plain": [
       "<Figure size 700x300 with 2 Axes>"
      ]
     },
     "metadata": {},
     "output_type": "display_data"
    }
   ],
   "source": [
    "acc2 = history.history['accuracy']\n",
    "val_acc = history.history['val_accuracy']\n",
    "loss2 = history.history['loss']\n",
    "val_loss = history.history['val_loss']\n",
    " \n",
    "epochs = range(1,len(acc2)+1)\n",
    " \n",
    "# Creating subplots\n",
    "fig, axes = plt.subplots(nrows=1, ncols=2, figsize=(7,3))\n",
    " \n",
    "axes[0].plot(epochs, acc2,'b',label='Train Accuracy')\n",
    "axes[0].plot(epochs, val_acc,'r',label='Test Accuracy')\n",
    "axes[0].set_xlabel('Epoch')\n",
    "axes[0].set_ylabel('Accuracy')\n",
    "axes[0].legend()\n",
    " \n",
    "axes[1].plot(epochs, loss2,'b',label='Train Loss')\n",
    "axes[1].plot(epochs, val_loss,'r',label='Test Loss')\n",
    "axes[1].set_xlabel('Epoch')\n",
    "axes[1].set_ylabel('Loss')\n",
    "axes[1].legend()\n",
    " \n",
    "# Adjusting layout for better spacing\n",
    "plt.tight_layout()\n",
    " \n",
    "# Display the figure\n",
    "plt.show()"
   ]
  },
  {
   "cell_type": "code",
   "execution_count": 12,
   "id": "6bb54e20-5c09-460e-9ee0-1356ff7b2a53",
   "metadata": {
    "tags": []
   },
   "outputs": [
    {
     "name": "stdout",
     "output_type": "stream",
     "text": [
      "9/9 [==============================] - 5s 566ms/step - loss: 0.6623 - accuracy: 0.6047\n",
      "Test Accuracy 60.47%\n"
     ]
    }
   ],
   "source": [
    "loss, accuracy = model.evaluate(x_test,y_test)\n",
    "print(f'Test Accuracy {accuracy*100:.2f}%')"
   ]
  },
  {
   "cell_type": "code",
   "execution_count": 13,
   "id": "ec09ef46-884a-4202-8faa-57910c1defbd",
   "metadata": {
    "tags": []
   },
   "outputs": [
    {
     "name": "stdout",
     "output_type": "stream",
     "text": [
      "9/9 [==============================] - 7s 535ms/step\n",
      "[0 0 0 0 0 0 0 1 0 0 1 0 0 0 0 0 1 0 0 0 1 1 0 1 0 1 0 0 0 0 0 0 0 1 1 0 1\n",
      " 0 0 0 1 0 0 0 0 0 0 0 0 0 1 0 1 0 0 1 0 1 0 0 0 0 0 0 0 0 0 0 0 1 1 0 0 0\n",
      " 0 0 1 0 0 1 0 0 1 0 1 0 0 1 1 0 0 0 0 0 0 0 0 0 0 0 0 1 0 0 0 0 0 0 0 1 0\n",
      " 0 1 1 0 0 0 0 0 1 1 0 0 0 1 1 0 1 0 0 1 1 1 0 0 0 0 0 1 0 0 0 1 0 0 0 0 0\n",
      " 0 0 0 0 0 0 0 0 0 0 1 0 0 1 0 0 0 0 0 0 0 0 1 0 0 1 0 1 0 0 1 0 0 0 0 0 0\n",
      " 0 0 0 1 0 0 0 0 0 1 0 0 1 0 0 0 0 1 0 0 0 1 1 0 1 0 0 0 0 0 0 0 0 0 0 1 0\n",
      " 1 0 0 0 1 1 0 0 0 0 1 1 0 0 0 0 0 0 0 0 1 0 0 0 0 1 1 0 0 1 1 0 0 0 0 0]\n",
      "              precision    recall  f1-score   support\n",
      "\n",
      "     Class 0       0.59      0.85      0.69       137\n",
      "     Class 1       0.66      0.33      0.44       121\n",
      "\n",
      "    accuracy                           0.60       258\n",
      "   macro avg       0.62      0.59      0.57       258\n",
      "weighted avg       0.62      0.60      0.57       258\n",
      "\n"
     ]
    }
   ],
   "source": [
    "import numpy as np\n",
    "from sklearn.metrics import classification_report\n",
    "\n",
    "predict_x = model.predict(x_test)\n",
    "predict1 = np.argmax(predict_x, axis = 1)\n",
    "print(predict1)\n",
    "\n",
    "target_names = [\"Class {}\".format(i) for i in range(2)]\n",
    "print(classification_report(np.array([int(class_) for class_ in Y_test]), predict1, target_names = target_names))"
   ]
  },
  {
   "cell_type": "code",
   "execution_count": 14,
   "id": "50e1458b-9b69-4178-903d-b1d8c184f47c",
   "metadata": {
    "tags": []
   },
   "outputs": [
    {
     "data": {
      "image/png": "[encoded data removed]",
      "text/plain": [
       "<Figure size 640x480 with 2 Axes>"
      ]
     },
     "metadata": {},
     "output_type": "display_data"
    }
   ],
   "source": [
    "import numpy as np\n",
    "import matplotlib.pyplot as plt\n",
    "from sklearn.metrics import classification_report, confusion_matrix, ConfusionMatrixDisplay\n",
    "\n",
    "#Compute confusion matrix\n",
    "cm = confusion_matrix(np.array([int(class_) for class_ in Y_test]), predict1)\n",
    "\n",
    "#Plot confusion matrix\n",
    "disp = ConfusionMatrixDisplay(confusion_matrix=cm, display_labels=target_names)\n",
    "disp.plot(cmap=plt.cm.Blues)\n",
    "plt.title('Confusion Matrix')\n",
    "plt.show()"
   ]
  },
  {
   "cell_type": "code",
   "execution_count": 15,
   "id": "cd2a886f-bd6c-4401-b575-18aab7e38472",
   "metadata": {
    "collapsed": true,
    "jupyter": {
     "outputs_hidden": true
    },
    "tags": []
   },
   "outputs": [
    {
     "name": "stderr",
     "output_type": "stream",
     "text": [
      "/opt/conda/lib/python3.10/site-packages/keras/src/engine/training.py:3103: UserWarning: You are saving your model as an HDF5 file via `model.save()`. This file format is considered legacy. We recommend using instead the native Keras format, e.g. `model.save('my_model.keras')`.\n",
      "  saving_api.save_model(\n"
     ]
    }
   ],
   "source": [
    "model.save('EffNet_Final_Model.h5')"
   ]
  },
  {
   "cell_type": "code",
   "execution_count": 17,
   "id": "2f5d6ce4-ca29-4ccc-a796-2c21096cd880",
   "metadata": {
    "tags": []
   },
   "outputs": [],
   "source": [
    "import pickle\n",
    "\n",
    "# Save the history object\n",
    "with open('history_EffNet_Final.pkl', 'wb') as file:\n",
    "    pickle.dump(history.history, file)"
   ]
  },
  {
   "cell_type": "code",
   "execution_count": 12,
   "id": "b0be94db",
   "metadata": {},
   "outputs": [],
   "source": [
    "import numpy as np\n",
    "import matplotlib.pyplot as plt\n",
    "from sklearn.metrics import classification_report, confusion_matrix, ConfusionMatrixDisplay"
   ]
  }
 ],
 "metadata": {
  "environment": {
   "kernel": "python3",
   "name": "tf2-gpu.2-15.m121",
   "type": "gcloud",
   "uri": "us-docker.pkg.dev/deeplearning-platform-release/gcr.io/tf2-gpu.2-15:m121"
  },
  "kernelspec": {
   "display_name": "Python 3 (Local)",
   "language": "python",
   "name": "python3"
  },
  "language_info": {
   "codemirror_mode": {
    "name": "ipython",
    "version": 3
   },
   "file_extension": ".py",
   "mimetype": "text/x-python",
   "name": "python",
   "nbconvert_exporter": "python",
   "pygments_lexer": "ipython3",
   "version": "3.9.5"
  }
 },
 "nbformat": 4,
 "nbformat_minor": 5
}
