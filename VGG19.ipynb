{
 "cells": [
  {
   "cell_type": "code",
   "execution_count": 1,
   "id": "e7f4bb85-147b-4d59-bd41-3b4eef48ad6b",
   "metadata": {
    "tags": []
   },
   "outputs": [
    {
     "name": "stderr",
     "output_type": "stream",
     "text": [
      "2024-07-23 08:03:13.127805: I tensorflow/core/util/port.cc:113] oneDNN custom operations are on. You may see slightly different numerical results due to floating-point round-off errors from different computation orders. To turn them off, set the environment variable `TF_ENABLE_ONEDNN_OPTS=0`.\n",
      "2024-07-23 08:03:13.173516: E external/local_xla/xla/stream_executor/cuda/cuda_dnn.cc:9261] Unable to register cuDNN factory: Attempting to register factory for plugin cuDNN when one has already been registered\n",
      "2024-07-23 08:03:13.173552: E external/local_xla/xla/stream_executor/cuda/cuda_fft.cc:607] Unable to register cuFFT factory: Attempting to register factory for plugin cuFFT when one has already been registered\n",
      "2024-07-23 08:03:13.174542: E external/local_xla/xla/stream_executor/cuda/cuda_blas.cc:1515] Unable to register cuBLAS factory: Attempting to register factory for plugin cuBLAS when one has already been registered\n",
      "2024-07-23 08:03:13.181346: I tensorflow/core/platform/cpu_feature_guard.cc:182] This TensorFlow binary is optimized to use available CPU instructions in performance-critical operations.\n",
      "To enable the following instructions: AVX2 AVX512F AVX512_VNNI FMA, in other operations, rebuild TensorFlow with the appropriate compiler flags.\n"
     ]
    }
   ],
   "source": [
    "import pandas as pd\n",
    "import os, re\n",
    "import numpy as np\n",
    "import cv2\n",
    "import matplotlib.pyplot as plt\n",
    "import seaborn as sns\n",
    "\n",
    "import tensorflow as tf\n",
    "import datetime\n",
    "from tensorflow.keras import layers, models"
   ]
  },
  {
   "cell_type": "code",
   "execution_count": 2,
   "id": "d0ca6249-67e5-4192-9414-3fd0bf38b12c",
   "metadata": {
    "tags": []
   },
   "outputs": [
    {
     "name": "stdout",
     "output_type": "stream",
     "text": [
      "Loaded 1000 training images.\n",
      "Filename .ipynb_checkpoints does not match the expected pattern.\n",
      "Loaded 2000 training images.\n",
      "Loaded 3000 training images.\n",
      "Loaded 4000 training images.\n",
      "Loaded train folder\n",
      "Filename .ipynb_checkpoints does not match the expected pattern.\n",
      "Loaded test folder\n"
     ]
    }
   ],
   "source": [
    "def load_images(path=\"coral_image_jpg\"):\n",
    "    train_folder = os.path.join(os.getcwd(), path, \"train\")\n",
    "    test_folder = os.path.join(os.getcwd(), path, \"test\")\n",
    "    \n",
    "    X_train, X_test, Y_train, Y_test = [], [], [], []\n",
    "    \n",
    "    # Loading images from train folder to X_train and label to Y_train\n",
    "    train_count = 0\n",
    "    for image_fname in os.listdir(train_folder):\n",
    "        image_re = re.match(r'([0-9]+)_([0-9]+)\\.jpg', image_fname)\n",
    "        if not image_re:\n",
    "            print(f\"Filename {image_fname} does not match the expected pattern.\")\n",
    "            continue\n",
    "        \n",
    "        image_path = os.path.join(train_folder, image_fname)\n",
    "        image = cv2.imread(image_path)\n",
    "        \n",
    "        if image is None:\n",
    "            print(f\"Failed to load image: {image_path}\")\n",
    "            continue\n",
    "        \n",
    "        try:\n",
    "            image_rgb = cv2.cvtColor(image, cv2.COLOR_BGR2RGB)\n",
    "        except cv2.error as e:\n",
    "            print(f\"Error converting image: {image_path}. Error: {e}\")\n",
    "            continue\n",
    "        \n",
    "        label = int(image_re.group(2))  # Convert label to integer\n",
    "        \n",
    "        X_train.append(image_rgb)\n",
    "        Y_train.append(label)\n",
    "        train_count += 1\n",
    "        if train_count % 1000 == 0:\n",
    "            print(f\"Loaded {train_count} training images.\")\n",
    "    print(\"Loaded train folder\")\n",
    "    \n",
    "    # Loading images from test folder to X_test and label to Y_test\n",
    "    test_count = 0\n",
    "    for image_fname in os.listdir(test_folder):\n",
    "        image_re = re.match(r'([0-9]+)_([0-9]+)\\.jpg', image_fname)\n",
    "        if not image_re:\n",
    "            print(f\"Filename {image_fname} does not match the expected pattern.\")\n",
    "            continue\n",
    "        \n",
    "        image_path = os.path.join(test_folder, image_fname)\n",
    "        image = cv2.imread(image_path)\n",
    "        \n",
    "        if image is None:\n",
    "            print(f\"Failed to load image: {image_path}\")\n",
    "            continue\n",
    "        \n",
    "        try:\n",
    "            image_rgb = cv2.cvtColor(image, cv2.COLOR_BGR2RGB)\n",
    "        except cv2.error as e:\n",
    "            print(f\"Error converting image: {image_path}. Error: {e}\")\n",
    "            continue\n",
    "        \n",
    "        label = int(image_re.group(2))  # Convert label to integer\n",
    "        \n",
    "        X_test.append(image_rgb)\n",
    "        Y_test.append(label)\n",
    "        test_count += 1\n",
    "        if test_count % 1000 == 0:\n",
    "            print(f\"Loaded {test_count} testing images.\")\n",
    "    print(\"Loaded test folder\")\n",
    "    \n",
    "    return X_train, X_test, Y_train, Y_test\n",
    "\n",
    "# Call the function to load images\n",
    "X_train, X_test, Y_train, Y_test = load_images()"
   ]
  },
  {
   "cell_type": "code",
   "execution_count": 3,
   "id": "eea1195d-e562-4cc7-803d-97df29d5e46b",
   "metadata": {
    "tags": []
   },
   "outputs": [
    {
     "name": "stdout",
     "output_type": "stream",
     "text": [
      "(4112, 225, 225, 3)\n",
      "(258, 225, 225, 3)\n",
      "(4112,)\n",
      "(258,)\n"
     ]
    }
   ],
   "source": [
    "x_train = np.array(X_train)\n",
    "x_test = np.array(X_test)\n",
    "y_train = np.array(Y_train)\n",
    "y_test = np.array(Y_test)\n",
    "print(x_train.shape)\n",
    "print(x_test.shape)\n",
    "print(y_train.shape)\n",
    "print(y_test.shape)"
   ]
  },
  {
   "cell_type": "code",
   "execution_count": 4,
   "id": "c3980f90-c489-4df0-beaf-7b33bcd936d1",
   "metadata": {
    "tags": []
   },
   "outputs": [],
   "source": [
    "x_train = x_train.astype('float32')\n",
    "x_test = x_test.astype('float32')\n",
    "\n",
    "x_train /= 255\n",
    "x_test /=255"
   ]
  },
  {
   "cell_type": "code",
   "execution_count": 5,
   "id": "89496a03-8c95-46a3-b160-05a41877821d",
   "metadata": {
    "tags": []
   },
   "outputs": [
    {
     "name": "stdout",
     "output_type": "stream",
     "text": [
      "Shape before one-hot encoding :  (4112,)\n",
      "Shape after one-hot encoding :  (258, 2)\n"
     ]
    }
   ],
   "source": [
    "from keras.utils import to_categorical\n",
    "\n",
    "print(\"Shape before one-hot encoding : \",y_train.shape)\n",
    "y_train = to_categorical(y_train)\n",
    "y_test = to_categorical(y_test)\n",
    "print(\"Shape after one-hot encoding : \",y_test.shape)"
   ]
  },
  {
   "cell_type": "code",
   "execution_count": 3,
   "id": "8689c444-efb5-45f4-a442-59bc450de35e",
   "metadata": {
    "tags": []
   },
   "outputs": [],
   "source": [
    "import tensorflow as tf\n",
    "from tensorflow.keras.layers import Dense, BatchNormalization, Dropout, Input\n",
    "from tensorflow.keras.models import Sequential\n",
    "from tensorflow.keras.applications import VGG19\n",
    "from tensorflow.keras.callbacks import Callback, EarlyStopping,ModelCheckpoint, ReduceLROnPlateau\n",
    "from tensorflow.keras.optimizers import SGD, Adam\n",
    "from helper_functions import create_tensorboard_callback, plot_loss_curves, unzip_data, compare_historys, walk_through_dir, pred_and_plot"
   ]
  },
  {
   "cell_type": "code",
   "execution_count": 7,
   "id": "3cf8dbac-ad61-4a6a-830a-33bf4b84b0b7",
   "metadata": {
    "tags": []
   },
   "outputs": [
    {
     "name": "stdout",
     "output_type": "stream",
     "text": [
      "Model: \"sequential\"\n",
      "_________________________________________________________________\n",
      " Layer (type)                Output Shape              Param #   \n",
      "=================================================================\n",
      " vgg19 (Functional)          (None, 512)               20024384  \n",
      "                                                                 \n",
      " dense (Dense)               (None, 128)               65664     \n",
      "                                                                 \n",
      " batch_normalization (Batch  (None, 128)               512       \n",
      " Normalization)                                                  \n",
      "                                                                 \n",
      " dropout (Dropout)           (None, 128)               0         \n",
      "                                                                 \n",
      " dense_1 (Dense)             (None, 256)               33024     \n",
      "                                                                 \n",
      " batch_normalization_1 (Bat  (None, 256)               1024      \n",
      " chNormalization)                                                \n",
      "                                                                 \n",
      " dropout_1 (Dropout)         (None, 256)               0         \n",
      "                                                                 \n",
      " dense_2 (Dense)             (None, 2)                 514       \n",
      "                                                                 \n",
      "=================================================================\n",
      "Total params: 20125122 (76.77 MB)\n",
      "Trainable params: 99970 (390.51 KB)\n",
      "Non-trainable params: 20025152 (76.39 MB)\n",
      "_________________________________________________________________\n"
     ]
    }
   ],
   "source": [
    "def create_VGG_model(input_shape=(225, 225, 3), num_classes=2):\n",
    "    # Create a sequential model\n",
    "    model = Sequential()\n",
    "    # Load the pretrained VGG19 model without the top layers\n",
    "    pretrained_model = VGG19(\n",
    "        include_top=False,\n",
    "        weights='imagenet',\n",
    "        input_tensor=Input(shape=input_shape),\n",
    "        pooling='max'\n",
    "    )\n",
    "    # Freeze the layers of the pretrained model\n",
    "    pretrained_model.trainable = False\n",
    "    # Add the pretrained model to the sequential model\n",
    "    model.add(pretrained_model)\n",
    "    # Add new layers on top of the pretrained model\n",
    "    model.add(Dense(128, activation='relu'))\n",
    "    model.add(BatchNormalization())\n",
    "    model.add(Dropout(0.45))\n",
    "    model.add(Dense(256, activation='relu'))\n",
    "    model.add(BatchNormalization())\n",
    "    model.add(Dropout(0.45))\n",
    "    # Output layer\n",
    "    model.add(Dense(num_classes, activation='softmax'))\n",
    "    return model\n",
    "\n",
    "model = create_VGG_model()\n",
    "model.summary()"
   ]
  },
  {
   "cell_type": "code",
   "execution_count": 10,
   "id": "0a0d109b-9c3a-4e96-bcb6-2fb10eb04295",
   "metadata": {
    "tags": []
   },
   "outputs": [],
   "source": [
    "# Create checkpoint callback\n",
    "checkpoint_path = \"corals_classification_model_checkpoint\"\n",
    "checkpoint_callback = ModelCheckpoint(checkpoint_path,\n",
    "                                      save_weights_only=True,\n",
    "                                      monitor=\"val_accuracy\",\n",
    "                                      save_best_only=True)\n",
    "\n",
    "# Setup EarlyStopping callback to stop training if model's val_loss doesn't improve for 3 epochs\n",
    "early_stopping = EarlyStopping(monitor = \"val_loss\", # watch the val loss metric\n",
    "                               patience = 5,\n",
    "                               restore_best_weights = True) # if val loss decreases for 3 epochs in a row, stop training\n",
    "\n",
    "reduce_lr = ReduceLROnPlateau(monitor='val_loss', factor=0.2, patience=3, min_lr=1e-10)"
   ]
  },
  {
   "cell_type": "code",
   "execution_count": 8,
   "id": "bfa18d88-708a-4a25-89d4-9696e7af1117",
   "metadata": {
    "tags": []
   },
   "outputs": [],
   "source": [
    "model.compile(optimizer=Adam(0.001),loss='categorical_crossentropy',metrics=['accuracy'])"
   ]
  },
  {
   "cell_type": "code",
   "execution_count": 11,
   "id": "a840e177-b4f9-4ba8-911b-bcd9a77d2d71",
   "metadata": {
    "tags": []
   },
   "outputs": [
    {
     "name": "stdout",
     "output_type": "stream",
     "text": [
      "Saving TensorBoard log files to: training_logs/corals_classification/20240713-030329\n",
      "Epoch 1/20\n",
      "129/129 [==============================] - 587s 5s/step - loss: 0.8259 - accuracy: 0.6469 - val_loss: 0.7062 - val_accuracy: 0.6163 - lr: 0.0010\n",
      "Epoch 2/20\n",
      "129/129 [==============================] - 584s 5s/step - loss: 0.5880 - accuracy: 0.7364 - val_loss: 0.5011 - val_accuracy: 0.7403 - lr: 0.0010\n",
      "Epoch 3/20\n",
      "129/129 [==============================] - 583s 5s/step - loss: 0.5095 - accuracy: 0.7639 - val_loss: 0.6999 - val_accuracy: 0.6783 - lr: 0.0010\n",
      "Epoch 4/20\n",
      "129/129 [==============================] - 583s 5s/step - loss: 0.4694 - accuracy: 0.7865 - val_loss: 0.5046 - val_accuracy: 0.7519 - lr: 0.0010\n",
      "Epoch 5/20\n",
      "129/129 [==============================] - 582s 5s/step - loss: 0.4435 - accuracy: 0.8037 - val_loss: 0.5021 - val_accuracy: 0.7636 - lr: 0.0010\n",
      "Epoch 6/20\n",
      "129/129 [==============================] - 582s 5s/step - loss: 0.4282 - accuracy: 0.8062 - val_loss: 0.4827 - val_accuracy: 0.7403 - lr: 2.0000e-04\n",
      "Epoch 7/20\n",
      "129/129 [==============================] - 582s 5s/step - loss: 0.4066 - accuracy: 0.8154 - val_loss: 0.4845 - val_accuracy: 0.7403 - lr: 2.0000e-04\n",
      "Epoch 8/20\n",
      "129/129 [==============================] - 582s 5s/step - loss: 0.4039 - accuracy: 0.8147 - val_loss: 0.4771 - val_accuracy: 0.7403 - lr: 2.0000e-04\n",
      "Epoch 9/20\n",
      "129/129 [==============================] - 582s 5s/step - loss: 0.3973 - accuracy: 0.8213 - val_loss: 0.4902 - val_accuracy: 0.7442 - lr: 2.0000e-04\n",
      "Epoch 10/20\n",
      "129/129 [==============================] - 584s 5s/step - loss: 0.3957 - accuracy: 0.8183 - val_loss: 0.4765 - val_accuracy: 0.7364 - lr: 2.0000e-04\n",
      "Epoch 11/20\n",
      "129/129 [==============================] - 582s 5s/step - loss: 0.3987 - accuracy: 0.8256 - val_loss: 0.4779 - val_accuracy: 0.7364 - lr: 2.0000e-04\n",
      "Epoch 12/20\n",
      "129/129 [==============================] - 583s 5s/step - loss: 0.3903 - accuracy: 0.8281 - val_loss: 0.4772 - val_accuracy: 0.7442 - lr: 2.0000e-04\n",
      "Epoch 13/20\n",
      "129/129 [==============================] - 582s 5s/step - loss: 0.3909 - accuracy: 0.8234 - val_loss: 0.4862 - val_accuracy: 0.7364 - lr: 2.0000e-04\n",
      "Epoch 14/20\n",
      "129/129 [==============================] - 583s 5s/step - loss: 0.3836 - accuracy: 0.8283 - val_loss: 0.4860 - val_accuracy: 0.7481 - lr: 4.0000e-05\n",
      "Epoch 15/20\n",
      "129/129 [==============================] - 583s 5s/step - loss: 0.3803 - accuracy: 0.8361 - val_loss: 0.4912 - val_accuracy: 0.7364 - lr: 4.0000e-05\n"
     ]
    }
   ],
   "source": [
    "history = model.fit(\n",
    "    x_train, y_train ,epochs=20,validation_data=(x_test, y_test), batch_size=32,\n",
    "    callbacks=[\n",
    "        early_stopping,\n",
    "        create_tensorboard_callback(\"training_logs\", \n",
    "                                    \"corals_classification\"),\n",
    "        checkpoint_callback,\n",
    "        reduce_lr\n",
    "    ])"
   ]
  },
  {
   "cell_type": "code",
   "execution_count": 12,
   "id": "ce6ffa13-83c5-4094-ace8-3fefb7fb9e30",
   "metadata": {},
   "outputs": [
    {
     "data": {
      "image/png": "[encoded data removed]",
      "text/plain": [
       "<Figure size 700x300 with 2 Axes>"
      ]
     },
     "metadata": {},
     "output_type": "display_data"
    }
   ],
   "source": [
    "acc2 = history.history['accuracy']\n",
    "val_acc = history.history['val_accuracy']\n",
    "loss2 = history.history['loss']\n",
    "val_loss = history.history['val_loss']\n",
    " \n",
    "epochs = range(1,len(acc2)+1)\n",
    " \n",
    "# Creating subplots\n",
    "fig, axes = plt.subplots(nrows=1, ncols=2, figsize=(7,3))\n",
    " \n",
    "axes[0].plot(epochs, acc2,'b',label='Train Accuracy')\n",
    "axes[0].plot(epochs, val_acc,'r',label='Test Accuracy')\n",
    "axes[0].set_xlabel('Epoch')\n",
    "axes[0].set_ylabel('Accuracy')\n",
    "axes[0].legend()\n",
    " \n",
    "axes[1].plot(epochs, loss2,'b',label='Train Loss')\n",
    "axes[1].plot(epochs, val_loss,'r',label='Test Loss')\n",
    "axes[1].set_xlabel('Epoch')\n",
    "axes[1].set_ylabel('Loss')\n",
    "axes[1].legend()\n",
    " \n",
    "# Adjusting layout for better spacing\n",
    "plt.tight_layout()\n",
    " \n",
    "# Display the figure\n",
    "plt.show()"
   ]
  },
  {
   "cell_type": "code",
   "execution_count": 13,
   "id": "f6a25766-f8e7-483b-978e-518e020ba657",
   "metadata": {
    "tags": []
   },
   "outputs": [
    {
     "name": "stdout",
     "output_type": "stream",
     "text": [
      "9/9 [==============================] - 34s 4s/step - loss: 0.4765 - accuracy: 0.7364\n",
      "Test Accuracy 73.64%\n"
     ]
    }
   ],
   "source": [
    "loss, accuracy = model.evaluate(x_test,y_test)\n",
    "print(f'Test Accuracy {accuracy*100:.2f}%')"
   ]
  },
  {
   "cell_type": "code",
   "execution_count": 14,
   "id": "cf32d2f7-02af-49ab-b198-e1f4f751b804",
   "metadata": {
    "tags": []
   },
   "outputs": [
    {
     "name": "stdout",
     "output_type": "stream",
     "text": [
      "9/9 [==============================] - 35s 4s/step\n",
      "[1 0 1 0 1 0 0 1 0 0 1 1 0 1 0 1 1 0 1 1 1 1 1 1 0 0 0 0 0 1 0 1 1 1 1 0 1\n",
      " 0 0 0 0 0 0 0 0 1 1 0 1 0 0 1 0 1 1 1 0 1 0 0 0 0 0 1 1 1 0 1 1 0 0 1 0 1\n",
      " 1 0 1 0 0 1 1 0 1 1 1 1 1 0 0 0 1 0 0 1 1 1 0 0 0 0 1 1 1 0 0 1 0 0 0 0 0\n",
      " 1 1 1 1 0 1 1 0 0 0 0 0 0 0 1 0 1 1 0 0 1 1 1 1 0 0 0 0 0 0 0 0 0 0 1 0 0\n",
      " 1 0 1 0 1 1 1 1 1 1 0 1 0 0 0 1 1 1 1 0 0 0 1 0 0 0 0 1 0 1 0 0 0 0 1 0 0\n",
      " 1 0 0 0 1 0 1 1 0 1 1 1 1 0 0 0 0 0 1 0 1 1 1 0 1 0 0 1 1 0 0 1 1 1 1 1 1\n",
      " 1 0 0 1 1 0 1 1 0 0 1 1 0 0 0 1 0 0 0 0 1 1 0 0 1 1 1 1 0 1 0 1 1 1 1 1]\n",
      "              precision    recall  f1-score   support\n",
      "\n",
      "     Class 0       0.76      0.74      0.75       137\n",
      "     Class 1       0.71      0.74      0.72       121\n",
      "\n",
      "    accuracy                           0.74       258\n",
      "   macro avg       0.74      0.74      0.74       258\n",
      "weighted avg       0.74      0.74      0.74       258\n",
      "\n"
     ]
    }
   ],
   "source": [
    "import numpy as np\n",
    "from sklearn.metrics import classification_report\n",
    "\n",
    "predict_x = model.predict(x_test)\n",
    "predict1 = np.argmax(predict_x, axis = 1)\n",
    "print(predict1)\n",
    "\n",
    "target_names = [\"Class {}\".format(i) for i in range(2)]\n",
    "print(classification_report(np.array([int(class_) for class_ in Y_test]), predict1, target_names = target_names))"
   ]
  },
  {
   "cell_type": "code",
   "execution_count": 17,
   "id": "4066193b-92ca-4152-9d9c-a0ab417fa721",
   "metadata": {
    "tags": []
   },
   "outputs": [
    {
     "data": {
      "image/png": "[encoded data removed]",
      "text/plain": [
       "<Figure size 640x480 with 2 Axes>"
      ]
     },
     "metadata": {},
     "output_type": "display_data"
    }
   ],
   "source": [
    "import numpy as np\n",
    "import matplotlib.pyplot as plt\n",
    "from sklearn.metrics import classification_report, confusion_matrix, ConfusionMatrixDisplay\n",
    "\n",
    "#Compute confusion matrix\n",
    "cm = confusion_matrix(np.array([int(class_) for class_ in Y_test]), predict1)\n",
    "\n",
    "#Plot confusion matrix\n",
    "disp = ConfusionMatrixDisplay(confusion_matrix=cm, display_labels=target_names)\n",
    "disp.plot(cmap=plt.cm.Blues)\n",
    "plt.title('Confusion Matrix')\n",
    "plt.show()"
   ]
  },
  {
   "cell_type": "code",
   "execution_count": 18,
   "id": "a1676a6c-7423-4b42-ab77-4f5e2f616485",
   "metadata": {
    "tags": []
   },
   "outputs": [
    {
     "name": "stderr",
     "output_type": "stream",
     "text": [
      "/opt/conda/lib/python3.10/site-packages/keras/src/engine/training.py:3103: UserWarning: You are saving your model as an HDF5 file via `model.save()`. This file format is considered legacy. We recommend using instead the native Keras format, e.g. `model.save('my_model.keras')`.\n",
      "  saving_api.save_model(\n"
     ]
    }
   ],
   "source": [
    "model.save('VGG19_Final_Model.h5')"
   ]
  },
  {
   "cell_type": "code",
   "execution_count": 21,
   "id": "e744d06b-d6ae-4e9b-aa59-894958701752",
   "metadata": {
    "tags": []
   },
   "outputs": [],
   "source": [
    "import pickle\n",
    "\n",
    "# Save the history object\n",
    "with open('history_VGG19_Final.pkl', 'wb') as file:\n",
    "    pickle.dump(history.history, file)\n"
   ]
  },
  {
   "cell_type": "code",
   "execution_count": 4,
   "id": "aeb5c2f1-adf1-4dcb-9525-36ed9979c873",
   "metadata": {},
   "outputs": [
    {
     "name": "stdout",
     "output_type": "stream",
     "text": [
      "Model: \"sequential_1\"\n",
      "_________________________________________________________________\n",
      " Layer (type)                Output Shape              Param #   \n",
      "=================================================================\n",
      " vgg19 (Functional)          (None, 512)               20024384  \n",
      "                                                                 \n",
      " dense_3 (Dense)             (None, 128)               65664     \n",
      "                                                                 \n",
      " batch_normalization_2 (Bat  (None, 128)               512       \n",
      " chNormalization)                                                \n",
      "                                                                 \n",
      " dropout_2 (Dropout)         (None, 128)               0         \n",
      "                                                                 \n",
      " dense_4 (Dense)             (None, 256)               33024     \n",
      "                                                                 \n",
      " batch_normalization_3 (Bat  (None, 256)               1024      \n",
      " chNormalization)                                                \n",
      "                                                                 \n",
      " dropout_3 (Dropout)         (None, 256)               0         \n",
      "                                                                 \n",
      " dense_5 (Dense)             (None, 2)                 514       \n",
      "                                                                 \n",
      "=================================================================\n",
      "Total params: 20125122 (76.77 MB)\n",
      "Trainable params: 99970 (390.51 KB)\n",
      "Non-trainable params: 20025152 (76.39 MB)\n",
      "_________________________________________________________________\n",
      "Last conv layer name for VGG19: block5_conv4\n"
     ]
    }
   ],
   "source": [
    "def create_VGG_model(input_shape=(225, 225, 3), num_classes=2):\n",
    "    # Create a sequential model\n",
    "    model = Sequential()\n",
    "    # Load the pretrained VGG19 model without the top layers\n",
    "    pretrained_model = VGG19(\n",
    "        include_top=False,\n",
    "        weights='imagenet',\n",
    "        input_tensor=Input(shape=input_shape),\n",
    "        pooling='max'\n",
    "    )\n",
    "    # Freeze the layers of the pretrained model\n",
    "    pretrained_model.trainable = False\n",
    "    # Add the pretrained model to the sequential model\n",
    "    model.add(pretrained_model)\n",
    "    # Add new layers on top of the pretrained model\n",
    "    model.add(Dense(128, activation='relu'))\n",
    "    model.add(BatchNormalization())\n",
    "    model.add(Dropout(0.45))\n",
    "    model.add(Dense(256, activation='relu'))\n",
    "    model.add(BatchNormalization())\n",
    "    model.add(Dropout(0.45))\n",
    "    # Output layer\n",
    "    model.add(Dense(num_classes, activation='softmax'))\n",
    "    return model\n",
    "\n",
    "model = create_VGG_model()\n",
    "model.summary()\n",
    "\n",
    "# Assuming this function is defined in your code\n",
    "def find_last_conv_layer(model):\n",
    "    for layer in reversed(model.layers):\n",
    "        if isinstance(layer, tf.keras.layers.Conv2D):\n",
    "            return layer.name\n",
    "    return None\n",
    "\n",
    "# Find the last convolutional layer of the pre-trained VGG19 part\n",
    "last_conv_layer_name = find_last_conv_layer(model.layers[0])\n",
    "\n",
    "# Dictionary to map model names to their last conv layer names\n",
    "last_conv_layer_names = {\n",
    "    'Model CNN': 'conv2d',  # Replace with actual last conv layer name\n",
    "    'Model EffNet': \"dense_2\",  # Replace with actual last conv layer name\n",
    "    'Model ResNet': 'conv2d',  # Replace with actual last conv layer name\n",
    "    'Model VGG19': last_conv_layer_name,  # Use the correct last conv layer name\n",
    "}\n",
    "\n",
    "print(\"Last conv layer name for VGG19:\", last_conv_layer_name)"
   ]
  }
 ],
 "metadata": {
  "environment": {
   "kernel": "python3",
   "name": "tf2-gpu.2-15.m121",
   "type": "gcloud",
   "uri": "us-docker.pkg.dev/deeplearning-platform-release/gcr.io/tf2-gpu.2-15:m121"
  },
  "kernelspec": {
   "display_name": "Python 3 (Local)",
   "language": "python",
   "name": "python3"
  },
  "language_info": {
   "codemirror_mode": {
    "name": "ipython",
    "version": 3
   },
   "file_extension": ".py",
   "mimetype": "text/x-python",
   "name": "python",
   "nbconvert_exporter": "python",
   "pygments_lexer": "ipython3",
   "version": "3.9.5"
  }
 },
 "nbformat": 4,
 "nbformat_minor": 5
}
